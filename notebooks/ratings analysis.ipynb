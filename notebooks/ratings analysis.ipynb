{
 "cells": [
  {
   "cell_type": "code",
   "execution_count": 10,
   "metadata": {
    "collapsed": true
   },
   "outputs": [],
   "source": [
    "import datetime\n",
    "import pandas as pd\n",
    "import numpy as np\n",
    "import seaborn as sns\n",
    "\n",
    "from matplotlib import pyplot as plt"
   ]
  },
  {
   "cell_type": "markdown",
   "source": [
    "## Load rating data"
   ],
   "metadata": {
    "collapsed": false
   }
  },
  {
   "cell_type": "code",
   "execution_count": 9,
   "outputs": [
    {
     "data": {
      "text/plain": "        user_id  movie_id  rating  rating_timestamp\n0             1    114508       8        1381006850\n1             2    499549       9        1376753198\n2             2   1305591       8        1376742507\n3             2   1428538       1        1371307089\n4             3     75314       1        1595468524\n...         ...       ...     ...               ...\n915365    71257   9893250      10        1613857551\n915366    71257   9898858       3        1585958452\n915367    71258    172495      10        1587107015\n915368    71258    414387      10        1587107852\n915369    71259   1623205       6        1362832655\n\n[915370 rows x 4 columns]",
      "text/html": "<div>\n<style scoped>\n    .dataframe tbody tr th:only-of-type {\n        vertical-align: middle;\n    }\n\n    .dataframe tbody tr th {\n        vertical-align: top;\n    }\n\n    .dataframe thead th {\n        text-align: right;\n    }\n</style>\n<table border=\"1\" class=\"dataframe\">\n  <thead>\n    <tr style=\"text-align: right;\">\n      <th></th>\n      <th>user_id</th>\n      <th>movie_id</th>\n      <th>rating</th>\n      <th>rating_timestamp</th>\n    </tr>\n  </thead>\n  <tbody>\n    <tr>\n      <th>0</th>\n      <td>1</td>\n      <td>114508</td>\n      <td>8</td>\n      <td>1381006850</td>\n    </tr>\n    <tr>\n      <th>1</th>\n      <td>2</td>\n      <td>499549</td>\n      <td>9</td>\n      <td>1376753198</td>\n    </tr>\n    <tr>\n      <th>2</th>\n      <td>2</td>\n      <td>1305591</td>\n      <td>8</td>\n      <td>1376742507</td>\n    </tr>\n    <tr>\n      <th>3</th>\n      <td>2</td>\n      <td>1428538</td>\n      <td>1</td>\n      <td>1371307089</td>\n    </tr>\n    <tr>\n      <th>4</th>\n      <td>3</td>\n      <td>75314</td>\n      <td>1</td>\n      <td>1595468524</td>\n    </tr>\n    <tr>\n      <th>...</th>\n      <td>...</td>\n      <td>...</td>\n      <td>...</td>\n      <td>...</td>\n    </tr>\n    <tr>\n      <th>915365</th>\n      <td>71257</td>\n      <td>9893250</td>\n      <td>10</td>\n      <td>1613857551</td>\n    </tr>\n    <tr>\n      <th>915366</th>\n      <td>71257</td>\n      <td>9898858</td>\n      <td>3</td>\n      <td>1585958452</td>\n    </tr>\n    <tr>\n      <th>915367</th>\n      <td>71258</td>\n      <td>172495</td>\n      <td>10</td>\n      <td>1587107015</td>\n    </tr>\n    <tr>\n      <th>915368</th>\n      <td>71258</td>\n      <td>414387</td>\n      <td>10</td>\n      <td>1587107852</td>\n    </tr>\n    <tr>\n      <th>915369</th>\n      <td>71259</td>\n      <td>1623205</td>\n      <td>6</td>\n      <td>1362832655</td>\n    </tr>\n  </tbody>\n</table>\n<p>915370 rows × 4 columns</p>\n</div>"
     },
     "execution_count": 9,
     "metadata": {},
     "output_type": "execute_result"
    }
   ],
   "source": [
    "rating_data = pd.read_csv('../data/ratings.dat.txt', sep=\"::\",\n",
    "                          names=['user_id', 'movie_id', 'rating', 'rating_timestamp'],\n",
    "                          engine='python')\n",
    "rating_data"
   ],
   "metadata": {
    "collapsed": false,
    "pycharm": {
     "name": "#%%\n"
    }
   }
  },
  {
   "cell_type": "code",
   "execution_count": 15,
   "outputs": [
    {
     "data": {
      "text/plain": "        user_id  movie_id  rating    rating_timestamp\n0             1    114508       8 2013-10-05 21:00:50\n1             2    499549       9 2013-08-17 15:26:38\n2             2   1305591       8 2013-08-17 12:28:27\n3             2   1428538       1 2013-06-15 14:38:09\n4             3     75314       1 2020-07-23 01:42:04\n...         ...       ...     ...                 ...\n915365    71257   9893250      10 2021-02-20 21:45:51\n915366    71257   9898858       3 2020-04-04 00:00:52\n915367    71258    172495      10 2020-04-17 07:03:35\n915368    71258    414387      10 2020-04-17 07:17:32\n915369    71259   1623205       6 2013-03-09 12:37:35\n\n[915370 rows x 4 columns]",
      "text/html": "<div>\n<style scoped>\n    .dataframe tbody tr th:only-of-type {\n        vertical-align: middle;\n    }\n\n    .dataframe tbody tr th {\n        vertical-align: top;\n    }\n\n    .dataframe thead th {\n        text-align: right;\n    }\n</style>\n<table border=\"1\" class=\"dataframe\">\n  <thead>\n    <tr style=\"text-align: right;\">\n      <th></th>\n      <th>user_id</th>\n      <th>movie_id</th>\n      <th>rating</th>\n      <th>rating_timestamp</th>\n    </tr>\n  </thead>\n  <tbody>\n    <tr>\n      <th>0</th>\n      <td>1</td>\n      <td>114508</td>\n      <td>8</td>\n      <td>2013-10-05 21:00:50</td>\n    </tr>\n    <tr>\n      <th>1</th>\n      <td>2</td>\n      <td>499549</td>\n      <td>9</td>\n      <td>2013-08-17 15:26:38</td>\n    </tr>\n    <tr>\n      <th>2</th>\n      <td>2</td>\n      <td>1305591</td>\n      <td>8</td>\n      <td>2013-08-17 12:28:27</td>\n    </tr>\n    <tr>\n      <th>3</th>\n      <td>2</td>\n      <td>1428538</td>\n      <td>1</td>\n      <td>2013-06-15 14:38:09</td>\n    </tr>\n    <tr>\n      <th>4</th>\n      <td>3</td>\n      <td>75314</td>\n      <td>1</td>\n      <td>2020-07-23 01:42:04</td>\n    </tr>\n    <tr>\n      <th>...</th>\n      <td>...</td>\n      <td>...</td>\n      <td>...</td>\n      <td>...</td>\n    </tr>\n    <tr>\n      <th>915365</th>\n      <td>71257</td>\n      <td>9893250</td>\n      <td>10</td>\n      <td>2021-02-20 21:45:51</td>\n    </tr>\n    <tr>\n      <th>915366</th>\n      <td>71257</td>\n      <td>9898858</td>\n      <td>3</td>\n      <td>2020-04-04 00:00:52</td>\n    </tr>\n    <tr>\n      <th>915367</th>\n      <td>71258</td>\n      <td>172495</td>\n      <td>10</td>\n      <td>2020-04-17 07:03:35</td>\n    </tr>\n    <tr>\n      <th>915368</th>\n      <td>71258</td>\n      <td>414387</td>\n      <td>10</td>\n      <td>2020-04-17 07:17:32</td>\n    </tr>\n    <tr>\n      <th>915369</th>\n      <td>71259</td>\n      <td>1623205</td>\n      <td>6</td>\n      <td>2013-03-09 12:37:35</td>\n    </tr>\n  </tbody>\n</table>\n<p>915370 rows × 4 columns</p>\n</div>"
     },
     "execution_count": 15,
     "metadata": {},
     "output_type": "execute_result"
    }
   ],
   "source": [
    "rating_data['rating_timestamp'] = pd.to_datetime(rating_data['rating_timestamp'], unit='s')\n",
    "rating_data\n"
   ],
   "metadata": {
    "collapsed": false,
    "pycharm": {
     "name": "#%%\n"
    }
   }
  }
 ],
 "metadata": {
  "kernelspec": {
   "display_name": "Python 3",
   "language": "python",
   "name": "python3"
  },
  "language_info": {
   "codemirror_mode": {
    "name": "ipython",
    "version": 2
   },
   "file_extension": ".py",
   "mimetype": "text/x-python",
   "name": "python",
   "nbconvert_exporter": "python",
   "pygments_lexer": "ipython2",
   "version": "2.7.6"
  }
 },
 "nbformat": 4,
 "nbformat_minor": 0
}